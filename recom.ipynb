{
 "cells": [
  {
   "cell_type": "code",
   "execution_count": 1,
   "metadata": {},
   "outputs": [],
   "source": [
    "import pandas as pd\n",
    "import numpy as np\n",
    "import matplotlib.pyplot as plt\n",
    "from sklearn.feature_extraction.text import TfidfVectorizer, CountVectorizer\n",
    "from sklearn.metrics.pairwise import linear_kernel, cosine_similarity\n",
    "from surprise import Reader, Dataset, SVD\n",
    "from surprise.model_selection import cross_validate\n",
    "from ast import literal_eval\n"
   ]
  },
  {
   "cell_type": "code",
   "execution_count": 2,
   "metadata": {},
   "outputs": [],
   "source": [
    "\n",
    "# Step 1: Load and Merge Data\n",
    "def load_data():\n",
    "    try:\n",
    "        df1 = pd.read_csv(r'C:\\Users\\jones\\OneDrive\\Desktop\\Recom_Sys\\dataset\\tmdb_5000_credits.csv')\n",
    "        df2 = pd.read_csv(r'C:\\Users\\jones\\OneDrive\\Desktop\\Recom_Sys\\dataset\\tmdb_5000_movies.csv')\n",
    "        df1.columns = ['id', 'tittle', 'cast', 'crew']\n",
    "        return df2.merge(df1, on='id')\n",
    "    except Exception as e:\n",
    "        print(f\"Error loading data: {e}\")\n",
    "        return None\n",
    "\n",
    "df2 = load_data()\n",
    "if df2 is None:\n",
    "    raise SystemExit(\"Data loading failed. Exiting.\")\n"
   ]
  },
  {
   "cell_type": "code",
   "execution_count": 3,
   "metadata": {},
   "outputs": [
    {
     "name": "stdout",
     "output_type": "stream",
     "text": [
      "Top 10 Movies based on weighted rating:\n",
      "                                              title  vote_count  vote_average  \\\n",
      "1881                       The Shawshank Redemption        8205           8.5   \n",
      "662                                      Fight Club        9413           8.3   \n",
      "65                                  The Dark Knight       12002           8.2   \n",
      "3232                                   Pulp Fiction        8428           8.3   \n",
      "96                                        Inception       13752           8.1   \n",
      "3337                                  The Godfather        5893           8.4   \n",
      "95                                     Interstellar       10867           8.1   \n",
      "809                                    Forrest Gump        7927           8.2   \n",
      "329   The Lord of the Rings: The Return of the King        8064           8.1   \n",
      "1990                        The Empire Strikes Back        5879           8.2   \n",
      "\n",
      "         score  \n",
      "1881  8.059258  \n",
      "662   7.939256  \n",
      "65    7.920020  \n",
      "3232  7.904645  \n",
      "96    7.863239  \n",
      "3337  7.851236  \n",
      "95    7.809479  \n",
      "809   7.803188  \n",
      "329   7.727243  \n",
      "1990  7.697884  \n"
     ]
    },
    {
     "name": "stderr",
     "output_type": "stream",
     "text": [
      "C:\\Users\\jones\\AppData\\Local\\Temp\\ipykernel_18728\\2322151925.py:11: SettingWithCopyWarning: \n",
      "A value is trying to be set on a copy of a slice from a DataFrame.\n",
      "Try using .loc[row_indexer,col_indexer] = value instead\n",
      "\n",
      "See the caveats in the documentation: https://pandas.pydata.org/pandas-docs/stable/user_guide/indexing.html#returning-a-view-versus-a-copy\n",
      "  q_movies['score'] = q_movies.apply(weighted_rating, axis=1)\n"
     ]
    }
   ],
   "source": [
    "\n",
    "# Step 2: Calculate Weighted Rating for Popular Movies\n",
    "C = df2['vote_average'].mean()\n",
    "m = df2['vote_count'].quantile(0.9)\n",
    "q_movies = df2[df2['vote_count'] >= m]\n",
    "\n",
    "def weighted_rating(x, m=m, C=C):\n",
    "    v = x['vote_count']\n",
    "    R = x['vote_average']\n",
    "    return (v / (v + m) * R) + (m / (m + v) * C)\n",
    "\n",
    "q_movies['score'] = q_movies.apply(weighted_rating, axis=1)\n",
    "q_movies = q_movies.sort_values('score', ascending=False)\n",
    "print(\"Top 10 Movies based on weighted rating:\")\n",
    "print(q_movies[['title', 'vote_count', 'vote_average', 'score']].head(10))\n"
   ]
  },
  {
   "cell_type": "code",
   "execution_count": 4,
   "metadata": {},
   "outputs": [
    {
     "name": "stdout",
     "output_type": "stream",
     "text": [
      "\n",
      "Recommendations for 'The Dark Knight Rises':\n",
      "65                              The Dark Knight\n",
      "299                              Batman Forever\n",
      "428                              Batman Returns\n",
      "1359                                     Batman\n",
      "3854    Batman: The Dark Knight Returns, Part 2\n",
      "119                               Batman Begins\n",
      "2507                                  Slow Burn\n",
      "9            Batman v Superman: Dawn of Justice\n",
      "1181                                        JFK\n",
      "210                              Batman & Robin\n",
      "Name: title, dtype: object\n",
      "\n",
      "Recommendations for 'The Avengers':\n",
      "7               Avengers: Age of Ultron\n",
      "3144                            Plastic\n",
      "1715                            Timecop\n",
      "4124                 This Thing of Ours\n",
      "3311              Thank You for Smoking\n",
      "3033                      The Corruptor\n",
      "588     Wall Street: Money Never Sleeps\n",
      "2136         Team America: World Police\n",
      "1468                       The Fountain\n",
      "1286                        Snowpiercer\n",
      "Name: title, dtype: object\n"
     ]
    }
   ],
   "source": [
    "\n",
    "# Step 3: Content-Based Filtering with TF-IDF\n",
    "df2['overview'] = df2['overview'].fillna('')\n",
    "tfidf = TfidfVectorizer(stop_words='english')\n",
    "tfidf_matrix = tfidf.fit_transform(df2['overview'])\n",
    "cosine_sim = linear_kernel(tfidf_matrix, tfidf_matrix)\n",
    "indices = pd.Series(df2.index, index=df2['title']).drop_duplicates()\n",
    "\n",
    "def get_recommendations(title, cosine_sim=cosine_sim):\n",
    "    if title not in indices:\n",
    "        return f\"Movie '{title}' not found in the dataset.\"\n",
    "    try:\n",
    "        idx = indices[title]\n",
    "        sim_scores = list(enumerate(cosine_sim[idx]))\n",
    "        sim_scores = sorted(sim_scores, key=lambda x: x[1], reverse=True)\n",
    "        sim_scores = sim_scores[1:11]\n",
    "        movie_indices = [i[0] for i in sim_scores]\n",
    "        return df2['title'].iloc[movie_indices]\n",
    "    except Exception as e:\n",
    "        return f\"An error occurred: {str(e)}\"\n",
    "\n",
    "print(\"\\nRecommendations for 'The Dark Knight Rises':\")\n",
    "print(get_recommendations('The Dark Knight Rises'))\n",
    "\n",
    "print(\"\\nRecommendations for 'The Avengers':\")\n",
    "print(get_recommendations('The Avengers'))\n"
   ]
  },
  {
   "cell_type": "code",
   "execution_count": 5,
   "metadata": {},
   "outputs": [
    {
     "name": "stdout",
     "output_type": "stream",
     "text": [
      "\n",
      "New features for the first 3 films:\n",
      "                                      title  \\\n",
      "0                                    Avatar   \n",
      "1  Pirates of the Caribbean: At World's End   \n",
      "2                                   Spectre   \n",
      "\n",
      "                                               cast        director  \\\n",
      "0  [Sam Worthington, Zoe Saldana, Sigourney Weaver]   James Cameron   \n",
      "1     [Johnny Depp, Orlando Bloom, Keira Knightley]  Gore Verbinski   \n",
      "2      [Daniel Craig, Christoph Waltz, Léa Seydoux]      Sam Mendes   \n",
      "\n",
      "                              keywords                        genres  \n",
      "0   [culture clash, future, space war]  [Action, Adventure, Fantasy]  \n",
      "1   [ocean, drug abuse, exotic island]  [Adventure, Fantasy, Action]  \n",
      "2  [spy, based on novel, secret agent]    [Action, Adventure, Crime]  \n"
     ]
    }
   ],
   "source": [
    "\n",
    "# Step 4: Parse and Clean Feature Data\n",
    "features = ['cast', 'crew', 'keywords', 'genres']\n",
    "for feature in features:\n",
    "    df2[feature] = df2[feature].apply(literal_eval)\n",
    "\n",
    "def get_director(x):\n",
    "    for i in x:\n",
    "        if i['job'] == 'Director':\n",
    "            return i['name']\n",
    "    return np.nan\n",
    "\n",
    "def get_list(x):\n",
    "    if isinstance(x, list):\n",
    "        names = [i['name'] for i in x]\n",
    "        return names[:3] if len(names) > 3 else names\n",
    "    return []\n",
    "\n",
    "df2['director'] = df2['crew'].apply(get_director)\n",
    "for feature in features:\n",
    "    df2[feature] = df2[feature].apply(get_list)\n",
    "\n",
    "print(\"\\nNew features for the first 3 films:\")\n",
    "print(df2[['title', 'cast', 'director', 'keywords', 'genres']].head(3))\n"
   ]
  },
  {
   "cell_type": "code",
   "execution_count": 6,
   "metadata": {},
   "outputs": [],
   "source": [
    "\n",
    "# Step 5: Clean Data\n",
    "def clean_data(x):\n",
    "    if isinstance(x, list):\n",
    "        return [str.lower(i.replace(\" \", \"\")) for i in x]\n",
    "    elif isinstance(x, str):\n",
    "        return str.lower(x.replace(\" \", \"\"))\n",
    "    else:\n",
    "        return ''\n",
    "\n",
    "for feature in features + ['director']:\n",
    "    df2[feature] = df2[feature].apply(clean_data)\n"
   ]
  },
  {
   "cell_type": "code",
   "execution_count": 7,
   "metadata": {},
   "outputs": [],
   "source": [
    "\n",
    "# Step 6: Create a \"soup\" of features\n",
    "def create_soup(x):\n",
    "    return ' '.join(x['keywords']) + ' ' + ' '.join(x['cast']) + ' ' + x['director'] + ' ' + ' '.join(x['genres'])\n",
    "\n",
    "df2['soup'] = df2.apply(create_soup, axis=1)\n"
   ]
  },
  {
   "cell_type": "code",
   "execution_count": 8,
   "metadata": {},
   "outputs": [
    {
     "name": "stdout",
     "output_type": "stream",
     "text": [
      "\n",
      "Recommendations for 'The Dark Knight Rises' (CountVectorizer):\n",
      "65               The Dark Knight\n",
      "119                Batman Begins\n",
      "4638    Amidst the Devil's Wings\n",
      "1196                The Prestige\n",
      "3073           Romeo Is Bleeding\n",
      "3326              Black November\n",
      "1503                      Takers\n",
      "1986                      Faster\n",
      "303                     Catwoman\n",
      "747               Gangster Squad\n",
      "Name: title, dtype: object\n",
      "\n",
      "Recommendations for 'The Godfather' (CountVectorizer):\n",
      "867      The Godfather: Part III\n",
      "2731      The Godfather: Part II\n",
      "4638    Amidst the Devil's Wings\n",
      "2649           The Son of No One\n",
      "1525              Apocalypse Now\n",
      "1018             The Cotton Club\n",
      "1170     The Talented Mr. Ripley\n",
      "1209               The Rainmaker\n",
      "1394               Donnie Brasco\n",
      "1850                    Scarface\n",
      "Name: title, dtype: object\n"
     ]
    }
   ],
   "source": [
    "\n",
    "# Step 7: Content-Based Recommendations using CountVectorizer\n",
    "count = CountVectorizer(stop_words='english')\n",
    "count_matrix = count.fit_transform(df2['soup'])\n",
    "cosine_sim2 = cosine_similarity(count_matrix, count_matrix)\n",
    "\n",
    "df2 = df2.reset_index()\n",
    "indices = pd.Series(df2.index, index=df2['title'])\n",
    "\n",
    "print(\"\\nRecommendations for 'The Dark Knight Rises' (CountVectorizer):\")\n",
    "print(get_recommendations('The Dark Knight Rises', cosine_sim2))\n",
    "\n",
    "print(\"\\nRecommendations for 'The Godfather' (CountVectorizer):\")\n",
    "print(get_recommendations('The Godfather', cosine_sim2))\n"
   ]
  },
  {
   "cell_type": "code",
   "execution_count": 9,
   "metadata": {},
   "outputs": [
    {
     "name": "stdout",
     "output_type": "stream",
     "text": [
      "Evaluating RMSE, MAE of algorithm SVD on 5 split(s).\n",
      "\n",
      "                  Fold 1  Fold 2  Fold 3  Fold 4  Fold 5  Mean    Std     \n",
      "RMSE (testset)    0.8927  0.8917  0.9003  0.8973  0.9027  0.8969  0.0043  \n",
      "MAE (testset)     0.6893  0.6885  0.6915  0.6925  0.6929  0.6909  0.0018  \n",
      "Fit time          1.51    1.33    1.50    1.84    1.39    1.52    0.18    \n",
      "Test time         0.13    0.10    0.10    0.19    0.10    0.12    0.04    \n",
      "\n",
      "SVD Cross-Validation Results:\n",
      "{'test_rmse': array([0.89266793, 0.89165179, 0.90034986, 0.89729021, 0.9027006 ]), 'test_mae': array([0.68927251, 0.68851027, 0.69150398, 0.6925375 , 0.69291361]), 'fit_time': (1.5138866901397705, 1.3321514129638672, 1.5031940937042236, 1.8383228778839111, 1.3877174854278564), 'test_time': (0.1272132396697998, 0.0992743968963623, 0.10210204124450684, 0.1924445629119873, 0.10004115104675293)}\n",
      "\n",
      "Prediction for user 1 and movie 302 with rating 3:\n",
      "user: 1          item: 302        r_ui = 3.00   est = 2.77   {'was_impossible': False}\n",
      "\n",
      "Ratings for user 1:\n",
      "    userId  movieId  rating   timestamp\n",
      "0        1       31     2.5  1260759144\n",
      "1        1     1029     3.0  1260759179\n",
      "2        1     1061     3.0  1260759182\n",
      "3        1     1129     2.0  1260759185\n",
      "4        1     1172     4.0  1260759205\n",
      "5        1     1263     2.0  1260759151\n",
      "6        1     1287     2.0  1260759187\n",
      "7        1     1293     2.0  1260759148\n",
      "8        1     1339     3.5  1260759125\n",
      "9        1     1343     2.0  1260759131\n",
      "10       1     1371     2.5  1260759135\n",
      "11       1     1405     1.0  1260759203\n",
      "12       1     1953     4.0  1260759191\n",
      "13       1     2105     4.0  1260759139\n",
      "14       1     2150     3.0  1260759194\n",
      "15       1     2193     2.0  1260759198\n",
      "16       1     2294     2.0  1260759108\n",
      "17       1     2455     2.5  1260759113\n",
      "18       1     2968     1.0  1260759200\n",
      "19       1     3671     3.0  1260759117\n",
      "                                          title\n",
      "0                                        Avatar\n",
      "1      Pirates of the Caribbean: At World's End\n",
      "2                                       Spectre\n",
      "3                         The Dark Knight Rises\n",
      "4                                   John Carter\n",
      "5                                  Spider-Man 3\n",
      "6                                       Tangled\n",
      "7                       Avengers: Age of Ultron\n",
      "8        Harry Potter and the Half-Blood Prince\n",
      "9            Batman v Superman: Dawn of Justice\n",
      "10                             Superman Returns\n",
      "11                            Quantum of Solace\n",
      "12   Pirates of the Caribbean: Dead Man's Chest\n",
      "13                              The Lone Ranger\n",
      "14                                 Man of Steel\n",
      "15     The Chronicles of Narnia: Prince Caspian\n",
      "16                                 The Avengers\n",
      "17  Pirates of the Caribbean: On Stranger Tides\n",
      "18                               Men in Black 3\n",
      "19    The Hobbit: The Battle of the Five Armies\n"
     ]
    }
   ],
   "source": [
    "\n",
    "# Step 8: Collaborative Filtering with Surprise (SVD)\n",
    "ratings = pd.read_csv(r'C:\\Users\\jones\\OneDrive\\Desktop\\Recom_Sys\\dataset\\ratings_small.csv')\n",
    "reader = Reader(rating_scale=(1, 5))\n",
    "data = Dataset.load_from_df(ratings[['userId', 'movieId', 'rating']], reader)\n",
    "svd = SVD()\n",
    "\n",
    "results = cross_validate(svd, data, measures=['RMSE', 'MAE'], cv=5, verbose=True)\n",
    "print(\"\\nSVD Cross-Validation Results:\")\n",
    "print(results)\n",
    "\n",
    "trainset = data.build_full_trainset()\n",
    "svd.fit(trainset)\n",
    "\n",
    "prediction = svd.predict(1, 302, 3)\n",
    "print(\"\\nPrediction for user 1 and movie 302 with rating 3:\")\n",
    "print(prediction)\n",
    "\n",
    "user_ratings = ratings[ratings['userId'] == 1]\n",
    "print(\"\\nRatings for user 1:\")\n",
    "print(user_ratings)\n",
    "\n",
    "print(df2[['title']].head(20))\n"
   ]
  },
  {
   "cell_type": "code",
   "execution_count": 19,
   "metadata": {},
   "outputs": [
    {
     "name": "stdout",
     "output_type": "stream",
     "text": [
      "1343    Never Say Never Again\n",
      "4071    From Russia with Love\n",
      "3162              Thunderball\n",
      "1717               Safe Haven\n",
      "11          Quantum of Solace\n",
      "4339                   Dr. No\n",
      "29                    Skyfall\n",
      "1880              Dance Flick\n",
      "3336     Diamonds Are Forever\n",
      "1743                Octopussy\n",
      "Name: title, dtype: object\n"
     ]
    }
   ],
   "source": [
    "print(get_recommendations('Spectre'))"
   ]
  }
 ],
 "metadata": {
  "kernelspec": {
   "display_name": "myenv",
   "language": "python",
   "name": "python3"
  },
  "language_info": {
   "codemirror_mode": {
    "name": "ipython",
    "version": 3
   },
   "file_extension": ".py",
   "mimetype": "text/x-python",
   "name": "python",
   "nbconvert_exporter": "python",
   "pygments_lexer": "ipython3",
   "version": "3.12.5"
  }
 },
 "nbformat": 4,
 "nbformat_minor": 2
}
